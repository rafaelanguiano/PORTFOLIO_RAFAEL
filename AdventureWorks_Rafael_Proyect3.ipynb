{
    "metadata": {
        "kernelspec": {
            "name": "SQL",
            "display_name": "SQL",
            "language": "sql"
        },
        "language_info": {
            "name": "sql",
            "version": ""
        }
    },
    "nbformat_minor": 2,
    "nbformat": 4,
    "cells": [
        {
            "cell_type": "markdown",
            "source": [
                "# **AdventureWorksDW2019 Proyect**"
            ],
            "metadata": {
                "azdata_cell_guid": "1c7b1799-eb11-429b-98ea-8098d3edaeef"
            },
            "attachments": {}
        },
        {
            "cell_type": "markdown",
            "source": [
                "## **This project is to demonstrate advanced and complex SQL Queries with Sub Query, Window Functions, Joins, and Common Table Expressions.**\n",
                "\n",
                "## The AdventureworksDW2019 database is being used for the realization of this project with the help of Microsoft SQL Server Management Studio to store this database and obtain the following results."
            ],
            "metadata": {
                "azdata_cell_guid": "83055aac-65ca-4357-900a-bf6adeda5674"
            },
            "attachments": {}
        },
        {
            "cell_type": "markdown",
            "source": [
                "## **In this case, we are going to perform an SQL query to obtain the result of each purchase made by customers, numbering it from their first purchase to the last one, organized by OrderDateKey and numbering them in the row column.**\n",
                "\n",
                "### To get this result I had to join 3 tables and use the ROW\\_NUMBER command to number the purchases made (To read the data easier, it will only show the first 20 results)."
            ],
            "metadata": {
                "azdata_cell_guid": "aad2eddd-6bb0-4d4e-8403-d179cf175204"
            },
            "attachments": {}
        },
        {
            "cell_type": "code",
            "source": [
                "SELECT TOP 20\r\n",
                "\t[OrderDateKey]\r\n",
                "\t,t1.[CustomerKey]\r\n",
                "\t,t2.FirstName\r\n",
                "\t ,t2.LastName\r\n",
                "\t,[SalesOrderNumber]\r\n",
                "\t, [EnglishProductName]\r\n",
                "\t,[TotalProductCost]\r\n",
                "\t,[SalesAmount]\r\n",
                "\t,ROW_NUMBER() over (PARTITION BY t1.customerkey ORDER BY orderdatekey) as row\r\n",
                "FROM [AdventureWorksDW2019].[dbo].[FactInternetSales] T1\r\n",
                "JOIN [AdventureWorksDW2019].[dbo].DimCustomer T2\r\n",
                "ON T1.[CustomerKey] = T2.[CustomerKey]\r\n",
                "JOIN [AdventureWorksDW2019].[dbo].DimProduct T3\r\n",
                "ON T1.ProductKey = T3.ProductKey"
            ],
            "metadata": {
                "azdata_cell_guid": "ace442ab-c9d5-4767-a60e-ba70000bea37",
                "language": "sql"
            },
            "outputs": [
                {
                    "output_type": "display_data",
                    "data": {
                        "text/html": "(20 rows affected)"
                    },
                    "metadata": {}
                },
                {
                    "output_type": "display_data",
                    "data": {
                        "text/html": "Total execution time: 00:00:00.073"
                    },
                    "metadata": {}
                },
                {
                    "output_type": "execute_result",
                    "execution_count": 11,
                    "data": {
                        "application/vnd.dataresource+json": {
                            "schema": {
                                "fields": [
                                    {
                                        "name": "OrderDateKey"
                                    },
                                    {
                                        "name": "CustomerKey"
                                    },
                                    {
                                        "name": "FirstName"
                                    },
                                    {
                                        "name": "LastName"
                                    },
                                    {
                                        "name": "SalesOrderNumber"
                                    },
                                    {
                                        "name": "EnglishProductName"
                                    },
                                    {
                                        "name": "TotalProductCost"
                                    },
                                    {
                                        "name": "SalesAmount"
                                    },
                                    {
                                        "name": "row"
                                    }
                                ]
                            },
                            "data": [
                                {
                                    "OrderDateKey": "20110119",
                                    "CustomerKey": "11000",
                                    "FirstName": "Jon",
                                    "LastName": "Yang",
                                    "SalesOrderNumber": "SO43793",
                                    "EnglishProductName": "Mountain-100 Silver, 38",
                                    "TotalProductCost": "1912.1544",
                                    "SalesAmount": "3399.99",
                                    "row": "1"
                                },
                                {
                                    "OrderDateKey": "20130118",
                                    "CustomerKey": "11000",
                                    "FirstName": "Jon",
                                    "LastName": "Yang",
                                    "SalesOrderNumber": "SO51522",
                                    "EnglishProductName": "Mountain-200 Silver, 38",
                                    "TotalProductCost": "1265.6195",
                                    "SalesAmount": "2319.99",
                                    "row": "2"
                                },
                                {
                                    "OrderDateKey": "20130118",
                                    "CustomerKey": "11000",
                                    "FirstName": "Jon",
                                    "LastName": "Yang",
                                    "SalesOrderNumber": "SO51522",
                                    "EnglishProductName": "Fender Set - Mountain",
                                    "TotalProductCost": "8.2205",
                                    "SalesAmount": "21.98",
                                    "row": "3"
                                },
                                {
                                    "OrderDateKey": "20130503",
                                    "CustomerKey": "11000",
                                    "FirstName": "Jon",
                                    "LastName": "Yang",
                                    "SalesOrderNumber": "SO57418",
                                    "EnglishProductName": "Touring-1000 Blue, 46",
                                    "TotalProductCost": "1481.9379",
                                    "SalesAmount": "2384.07",
                                    "row": "4"
                                },
                                {
                                    "OrderDateKey": "20130503",
                                    "CustomerKey": "11000",
                                    "FirstName": "Jon",
                                    "LastName": "Yang",
                                    "SalesOrderNumber": "SO57418",
                                    "EnglishProductName": "Touring Tire",
                                    "TotalProductCost": "10.8423",
                                    "SalesAmount": "28.99",
                                    "row": "5"
                                },
                                {
                                    "OrderDateKey": "20130503",
                                    "CustomerKey": "11000",
                                    "FirstName": "Jon",
                                    "LastName": "Yang",
                                    "SalesOrderNumber": "SO57418",
                                    "EnglishProductName": "Touring Tire Tube",
                                    "TotalProductCost": "1.8663",
                                    "SalesAmount": "4.99",
                                    "row": "6"
                                },
                                {
                                    "OrderDateKey": "20130503",
                                    "CustomerKey": "11000",
                                    "FirstName": "Jon",
                                    "LastName": "Yang",
                                    "SalesOrderNumber": "SO57418",
                                    "EnglishProductName": "Sport-100 Helmet, Red",
                                    "TotalProductCost": "13.0863",
                                    "SalesAmount": "34.99",
                                    "row": "7"
                                },
                                {
                                    "OrderDateKey": "20130503",
                                    "CustomerKey": "11000",
                                    "FirstName": "Jon",
                                    "LastName": "Yang",
                                    "SalesOrderNumber": "SO57418",
                                    "EnglishProductName": "Short-Sleeve Classic Jersey, S",
                                    "TotalProductCost": "41.5723",
                                    "SalesAmount": "53.99",
                                    "row": "8"
                                },
                                {
                                    "OrderDateKey": "20110115",
                                    "CustomerKey": "11001",
                                    "FirstName": "Eugene",
                                    "LastName": "Huang",
                                    "SalesOrderNumber": "SO43767",
                                    "EnglishProductName": "Mountain-100 Black, 44",
                                    "TotalProductCost": "1898.0944",
                                    "SalesAmount": "3374.99",
                                    "row": "1"
                                },
                                {
                                    "OrderDateKey": "20130116",
                                    "CustomerKey": "11001",
                                    "FirstName": "Eugene",
                                    "LastName": "Huang",
                                    "SalesOrderNumber": "SO51493",
                                    "EnglishProductName": "Mountain-200 Silver, 38",
                                    "TotalProductCost": "1265.6195",
                                    "SalesAmount": "2319.99",
                                    "row": "2"
                                },
                                {
                                    "OrderDateKey": "20130116",
                                    "CustomerKey": "11001",
                                    "FirstName": "Eugene",
                                    "LastName": "Huang",
                                    "SalesOrderNumber": "SO51493",
                                    "EnglishProductName": "Fender Set - Mountain",
                                    "TotalProductCost": "8.2205",
                                    "SalesAmount": "21.98",
                                    "row": "3"
                                },
                                {
                                    "OrderDateKey": "20130116",
                                    "CustomerKey": "11001",
                                    "FirstName": "Eugene",
                                    "LastName": "Huang",
                                    "SalesOrderNumber": "SO51493",
                                    "EnglishProductName": "Water Bottle - 30 oz.",
                                    "TotalProductCost": "1.8663",
                                    "SalesAmount": "4.99",
                                    "row": "4"
                                },
                                {
                                    "OrderDateKey": "20130116",
                                    "CustomerKey": "11001",
                                    "FirstName": "Eugene",
                                    "LastName": "Huang",
                                    "SalesOrderNumber": "SO51493",
                                    "EnglishProductName": "Mountain Bottle Cage",
                                    "TotalProductCost": "3.7363",
                                    "SalesAmount": "9.99",
                                    "row": "5"
                                },
                                {
                                    "OrderDateKey": "20130116",
                                    "CustomerKey": "11001",
                                    "FirstName": "Eugene",
                                    "LastName": "Huang",
                                    "SalesOrderNumber": "SO51493",
                                    "EnglishProductName": "Short-Sleeve Classic Jersey, XL",
                                    "TotalProductCost": "41.5723",
                                    "SalesAmount": "53.99",
                                    "row": "6"
                                },
                                {
                                    "OrderDateKey": "20130116",
                                    "CustomerKey": "11001",
                                    "FirstName": "Eugene",
                                    "LastName": "Huang",
                                    "SalesOrderNumber": "SO51493",
                                    "EnglishProductName": "AWC Logo Cap",
                                    "TotalProductCost": "6.9223",
                                    "SalesAmount": "8.99",
                                    "row": "7"
                                },
                                {
                                    "OrderDateKey": "20131210",
                                    "CustomerKey": "11001",
                                    "FirstName": "Eugene",
                                    "LastName": "Huang",
                                    "SalesOrderNumber": "SO72773",
                                    "EnglishProductName": "Road-750 Black, 44",
                                    "TotalProductCost": "343.6496",
                                    "SalesAmount": "539.99",
                                    "row": "8"
                                },
                                {
                                    "OrderDateKey": "20131210",
                                    "CustomerKey": "11001",
                                    "FirstName": "Eugene",
                                    "LastName": "Huang",
                                    "SalesOrderNumber": "SO72773",
                                    "EnglishProductName": "Water Bottle - 30 oz.",
                                    "TotalProductCost": "1.8663",
                                    "SalesAmount": "4.99",
                                    "row": "9"
                                },
                                {
                                    "OrderDateKey": "20131210",
                                    "CustomerKey": "11001",
                                    "FirstName": "Eugene",
                                    "LastName": "Huang",
                                    "SalesOrderNumber": "SO72773",
                                    "EnglishProductName": "Road Bottle Cage",
                                    "TotalProductCost": "3.3623",
                                    "SalesAmount": "8.99",
                                    "row": "10"
                                },
                                {
                                    "OrderDateKey": "20131210",
                                    "CustomerKey": "11001",
                                    "FirstName": "Eugene",
                                    "LastName": "Huang",
                                    "SalesOrderNumber": "SO72773",
                                    "EnglishProductName": "Sport-100 Helmet, Black",
                                    "TotalProductCost": "13.0863",
                                    "SalesAmount": "34.99",
                                    "row": "11"
                                },
                                {
                                    "OrderDateKey": "20110107",
                                    "CustomerKey": "11002",
                                    "FirstName": "Ruben",
                                    "LastName": "Torres",
                                    "SalesOrderNumber": "SO43736",
                                    "EnglishProductName": "Mountain-100 Silver, 44",
                                    "TotalProductCost": "1912.1544",
                                    "SalesAmount": "3399.99",
                                    "row": "1"
                                }
                            ]
                        },
                        "text/html": "<table><tr><th>OrderDateKey</th><th>CustomerKey</th><th>FirstName</th><th>LastName</th><th>SalesOrderNumber</th><th>EnglishProductName</th><th>TotalProductCost</th><th>SalesAmount</th><th>row</th></tr><tr><td>20110119</td><td>11000</td><td>Jon</td><td>Yang</td><td>SO43793</td><td>Mountain-100 Silver, 38</td><td>1912.1544</td><td>3399.99</td><td>1</td></tr><tr><td>20130118</td><td>11000</td><td>Jon</td><td>Yang</td><td>SO51522</td><td>Mountain-200 Silver, 38</td><td>1265.6195</td><td>2319.99</td><td>2</td></tr><tr><td>20130118</td><td>11000</td><td>Jon</td><td>Yang</td><td>SO51522</td><td>Fender Set - Mountain</td><td>8.2205</td><td>21.98</td><td>3</td></tr><tr><td>20130503</td><td>11000</td><td>Jon</td><td>Yang</td><td>SO57418</td><td>Touring-1000 Blue, 46</td><td>1481.9379</td><td>2384.07</td><td>4</td></tr><tr><td>20130503</td><td>11000</td><td>Jon</td><td>Yang</td><td>SO57418</td><td>Touring Tire</td><td>10.8423</td><td>28.99</td><td>5</td></tr><tr><td>20130503</td><td>11000</td><td>Jon</td><td>Yang</td><td>SO57418</td><td>Touring Tire Tube</td><td>1.8663</td><td>4.99</td><td>6</td></tr><tr><td>20130503</td><td>11000</td><td>Jon</td><td>Yang</td><td>SO57418</td><td>Sport-100 Helmet, Red</td><td>13.0863</td><td>34.99</td><td>7</td></tr><tr><td>20130503</td><td>11000</td><td>Jon</td><td>Yang</td><td>SO57418</td><td>Short-Sleeve Classic Jersey, S</td><td>41.5723</td><td>53.99</td><td>8</td></tr><tr><td>20110115</td><td>11001</td><td>Eugene</td><td>Huang</td><td>SO43767</td><td>Mountain-100 Black, 44</td><td>1898.0944</td><td>3374.99</td><td>1</td></tr><tr><td>20130116</td><td>11001</td><td>Eugene</td><td>Huang</td><td>SO51493</td><td>Mountain-200 Silver, 38</td><td>1265.6195</td><td>2319.99</td><td>2</td></tr><tr><td>20130116</td><td>11001</td><td>Eugene</td><td>Huang</td><td>SO51493</td><td>Fender Set - Mountain</td><td>8.2205</td><td>21.98</td><td>3</td></tr><tr><td>20130116</td><td>11001</td><td>Eugene</td><td>Huang</td><td>SO51493</td><td>Water Bottle - 30 oz.</td><td>1.8663</td><td>4.99</td><td>4</td></tr><tr><td>20130116</td><td>11001</td><td>Eugene</td><td>Huang</td><td>SO51493</td><td>Mountain Bottle Cage</td><td>3.7363</td><td>9.99</td><td>5</td></tr><tr><td>20130116</td><td>11001</td><td>Eugene</td><td>Huang</td><td>SO51493</td><td>Short-Sleeve Classic Jersey, XL</td><td>41.5723</td><td>53.99</td><td>6</td></tr><tr><td>20130116</td><td>11001</td><td>Eugene</td><td>Huang</td><td>SO51493</td><td>AWC Logo Cap</td><td>6.9223</td><td>8.99</td><td>7</td></tr><tr><td>20131210</td><td>11001</td><td>Eugene</td><td>Huang</td><td>SO72773</td><td>Road-750 Black, 44</td><td>343.6496</td><td>539.99</td><td>8</td></tr><tr><td>20131210</td><td>11001</td><td>Eugene</td><td>Huang</td><td>SO72773</td><td>Water Bottle - 30 oz.</td><td>1.8663</td><td>4.99</td><td>9</td></tr><tr><td>20131210</td><td>11001</td><td>Eugene</td><td>Huang</td><td>SO72773</td><td>Road Bottle Cage</td><td>3.3623</td><td>8.99</td><td>10</td></tr><tr><td>20131210</td><td>11001</td><td>Eugene</td><td>Huang</td><td>SO72773</td><td>Sport-100 Helmet, Black</td><td>13.0863</td><td>34.99</td><td>11</td></tr><tr><td>20110107</td><td>11002</td><td>Ruben</td><td>Torres</td><td>SO43736</td><td>Mountain-100 Silver, 44</td><td>1912.1544</td><td>3399.99</td><td>1</td></tr></table>"
                    },
                    "metadata": {}
                }
            ],
            "execution_count": 11
        },
        {
            "cell_type": "markdown",
            "source": [
                "## **With the Query done above, I'll modify it to get the first purchase of each customer to get a pattern.**"
            ],
            "metadata": {
                "azdata_cell_guid": "0868cd41-1200-47a1-8e01-78446f6b1b8f"
            },
            "attachments": {}
        },
        {
            "cell_type": "code",
            "source": [
                "WITH CTE_MAIN AS\r\n",
                "(SELECT [OrderDateKey]\r\n",
                "\t,t1.[CustomerKey]\r\n",
                "\t,t2.FirstName\r\n",
                "\t ,t2.LastName\r\n",
                "\t,[SalesOrderNumber]\r\n",
                "\t, [EnglishProductName]\r\n",
                "\t,[TotalProductCost]\r\n",
                "\t,[SalesAmount]\r\n",
                "\t,ROW_NUMBER() over (PARTITION BY t1.customerkey ORDER BY orderdatekey) as row\r\n",
                "FROM [AdventureWorksDW2019].[dbo].[FactInternetSales] T1\r\n",
                "JOIN [AdventureWorksDW2019].[dbo].DimCustomer T2\r\n",
                "ON T1.[CustomerKey] = T2.[CustomerKey]\r\n",
                "JOIN [AdventureWorksDW2019].[dbo].DimProduct T3\r\n",
                "ON T1.ProductKey = T3.ProductKey)\r\n",
                "\r\n",
                "SELECT TOP 20 *\r\n",
                "FROM CTE_MAIN\r\n",
                "WHERE row = 1"
            ],
            "metadata": {
                "azdata_cell_guid": "22921d3b-30ef-4e6f-b06c-5009cb6bb8a0",
                "language": "sql"
            },
            "outputs": [
                {
                    "output_type": "display_data",
                    "data": {
                        "text/html": "(20 rows affected)"
                    },
                    "metadata": {}
                },
                {
                    "output_type": "display_data",
                    "data": {
                        "text/html": "Total execution time: 00:00:00.058"
                    },
                    "metadata": {}
                },
                {
                    "output_type": "execute_result",
                    "execution_count": 12,
                    "data": {
                        "application/vnd.dataresource+json": {
                            "schema": {
                                "fields": [
                                    {
                                        "name": "OrderDateKey"
                                    },
                                    {
                                        "name": "CustomerKey"
                                    },
                                    {
                                        "name": "FirstName"
                                    },
                                    {
                                        "name": "LastName"
                                    },
                                    {
                                        "name": "SalesOrderNumber"
                                    },
                                    {
                                        "name": "EnglishProductName"
                                    },
                                    {
                                        "name": "TotalProductCost"
                                    },
                                    {
                                        "name": "SalesAmount"
                                    },
                                    {
                                        "name": "row"
                                    }
                                ]
                            },
                            "data": [
                                {
                                    "OrderDateKey": "20110119",
                                    "CustomerKey": "11000",
                                    "FirstName": "Jon",
                                    "LastName": "Yang",
                                    "SalesOrderNumber": "SO43793",
                                    "EnglishProductName": "Mountain-100 Silver, 38",
                                    "TotalProductCost": "1912.1544",
                                    "SalesAmount": "3399.99",
                                    "row": "1"
                                },
                                {
                                    "OrderDateKey": "20110115",
                                    "CustomerKey": "11001",
                                    "FirstName": "Eugene",
                                    "LastName": "Huang",
                                    "SalesOrderNumber": "SO43767",
                                    "EnglishProductName": "Mountain-100 Black, 44",
                                    "TotalProductCost": "1898.0944",
                                    "SalesAmount": "3374.99",
                                    "row": "1"
                                },
                                {
                                    "OrderDateKey": "20110107",
                                    "CustomerKey": "11002",
                                    "FirstName": "Ruben",
                                    "LastName": "Torres",
                                    "SalesOrderNumber": "SO43736",
                                    "EnglishProductName": "Mountain-100 Silver, 44",
                                    "TotalProductCost": "1912.1544",
                                    "SalesAmount": "3399.99",
                                    "row": "1"
                                },
                                {
                                    "OrderDateKey": "20101229",
                                    "CustomerKey": "11003",
                                    "FirstName": "Christy",
                                    "LastName": "Zhu",
                                    "SalesOrderNumber": "SO43701",
                                    "EnglishProductName": "Mountain-100 Silver, 44",
                                    "TotalProductCost": "1912.1544",
                                    "SalesAmount": "3399.99",
                                    "row": "1"
                                },
                                {
                                    "OrderDateKey": "20110123",
                                    "CustomerKey": "11004",
                                    "FirstName": "Elizabeth",
                                    "LastName": "Johnson",
                                    "SalesOrderNumber": "SO43810",
                                    "EnglishProductName": "Mountain-100 Silver, 42",
                                    "TotalProductCost": "1912.1544",
                                    "SalesAmount": "3399.99",
                                    "row": "1"
                                },
                                {
                                    "OrderDateKey": "20101230",
                                    "CustomerKey": "11005",
                                    "FirstName": "Julio",
                                    "LastName": "Ruiz",
                                    "SalesOrderNumber": "SO43704",
                                    "EnglishProductName": "Mountain-100 Black, 48",
                                    "TotalProductCost": "1898.0944",
                                    "SalesAmount": "3374.99",
                                    "row": "1"
                                },
                                {
                                    "OrderDateKey": "20110124",
                                    "CustomerKey": "11006",
                                    "FirstName": "Janet",
                                    "LastName": "Alvarez",
                                    "SalesOrderNumber": "SO43819",
                                    "EnglishProductName": "Mountain-100 Silver, 44",
                                    "TotalProductCost": "1912.1544",
                                    "SalesAmount": "3399.99",
                                    "row": "1"
                                },
                                {
                                    "OrderDateKey": "20110109",
                                    "CustomerKey": "11007",
                                    "FirstName": "Marco",
                                    "LastName": "Mehta",
                                    "SalesOrderNumber": "SO43743",
                                    "EnglishProductName": "Mountain-100 Silver, 48",
                                    "TotalProductCost": "1912.1544",
                                    "SalesAmount": "3399.99",
                                    "row": "1"
                                },
                                {
                                    "OrderDateKey": "20110125",
                                    "CustomerKey": "11008",
                                    "FirstName": "Rob",
                                    "LastName": "Verhoff",
                                    "SalesOrderNumber": "SO43826",
                                    "EnglishProductName": "Mountain-100 Black, 38",
                                    "TotalProductCost": "1898.0944",
                                    "SalesAmount": "3374.99",
                                    "row": "1"
                                },
                                {
                                    "OrderDateKey": "20110127",
                                    "CustomerKey": "11009",
                                    "FirstName": "Shannon",
                                    "LastName": "Carlson",
                                    "SalesOrderNumber": "SO43837",
                                    "EnglishProductName": "Mountain-100 Black, 44",
                                    "TotalProductCost": "1898.0944",
                                    "SalesAmount": "3374.99",
                                    "row": "1"
                                },
                                {
                                    "OrderDateKey": "20110114",
                                    "CustomerKey": "11010",
                                    "FirstName": "Jacquelyn",
                                    "LastName": "Suarez",
                                    "SalesOrderNumber": "SO43765",
                                    "EnglishProductName": "Mountain-100 Silver, 44",
                                    "TotalProductCost": "1912.1544",
                                    "SalesAmount": "3399.99",
                                    "row": "1"
                                },
                                {
                                    "OrderDateKey": "20101230",
                                    "CustomerKey": "11011",
                                    "FirstName": "Curtis",
                                    "LastName": "Lu",
                                    "SalesOrderNumber": "SO43705",
                                    "EnglishProductName": "Mountain-100 Silver, 38",
                                    "TotalProductCost": "1912.1544",
                                    "SalesAmount": "3399.99",
                                    "row": "1"
                                },
                                {
                                    "OrderDateKey": "20130316",
                                    "CustomerKey": "11012",
                                    "FirstName": "Lauren",
                                    "LastName": "Walker",
                                    "SalesOrderNumber": "SO54508",
                                    "EnglishProductName": "HL Mountain Tire",
                                    "TotalProductCost": "13.09",
                                    "SalesAmount": "35.00",
                                    "row": "1"
                                },
                                {
                                    "OrderDateKey": "20130413",
                                    "CustomerKey": "11013",
                                    "FirstName": "Ian",
                                    "LastName": "Jenkins",
                                    "SalesOrderNumber": "SO56137",
                                    "EnglishProductName": "Road Tire Tube",
                                    "TotalProductCost": "1.4923",
                                    "SalesAmount": "3.99",
                                    "row": "1"
                                },
                                {
                                    "OrderDateKey": "20130323",
                                    "CustomerKey": "11014",
                                    "FirstName": "Sydney",
                                    "LastName": "Bennett",
                                    "SalesOrderNumber": "SO54898",
                                    "EnglishProductName": "Road Tire Tube",
                                    "TotalProductCost": "1.4923",
                                    "SalesAmount": "3.99",
                                    "row": "1"
                                },
                                {
                                    "OrderDateKey": "20130118",
                                    "CustomerKey": "11015",
                                    "FirstName": "Chloe",
                                    "LastName": "Young",
                                    "SalesOrderNumber": "SO51520",
                                    "EnglishProductName": "Mountain-200 Silver, 38",
                                    "TotalProductCost": "1265.6195",
                                    "SalesAmount": "2319.99",
                                    "row": "1"
                                },
                                {
                                    "OrderDateKey": "20130209",
                                    "CustomerKey": "11016",
                                    "FirstName": "Wyatt",
                                    "LastName": "Hill",
                                    "SalesOrderNumber": "SO52512",
                                    "EnglishProductName": "Mountain-200 Black, 46",
                                    "TotalProductCost": "1251.9813",
                                    "SalesAmount": "2294.99",
                                    "row": "1"
                                },
                                {
                                    "OrderDateKey": "20110112",
                                    "CustomerKey": "11017",
                                    "FirstName": "Shannon",
                                    "LastName": "Wang",
                                    "SalesOrderNumber": "SO43757",
                                    "EnglishProductName": "Mountain-100 Black, 44",
                                    "TotalProductCost": "1898.0944",
                                    "SalesAmount": "3374.99",
                                    "row": "1"
                                },
                                {
                                    "OrderDateKey": "20110117",
                                    "CustomerKey": "11018",
                                    "FirstName": "Clarence",
                                    "LastName": "Rai",
                                    "SalesOrderNumber": "SO43778",
                                    "EnglishProductName": "Mountain-100 Silver, 42",
                                    "TotalProductCost": "1912.1544",
                                    "SalesAmount": "3399.99",
                                    "row": "1"
                                },
                                {
                                    "OrderDateKey": "20130212",
                                    "CustomerKey": "11019",
                                    "FirstName": "Luke",
                                    "LastName": "Lal",
                                    "SalesOrderNumber": "SO52626",
                                    "EnglishProductName": "Road Tire Tube",
                                    "TotalProductCost": "1.4923",
                                    "SalesAmount": "3.99",
                                    "row": "1"
                                }
                            ]
                        },
                        "text/html": "<table><tr><th>OrderDateKey</th><th>CustomerKey</th><th>FirstName</th><th>LastName</th><th>SalesOrderNumber</th><th>EnglishProductName</th><th>TotalProductCost</th><th>SalesAmount</th><th>row</th></tr><tr><td>20110119</td><td>11000</td><td>Jon</td><td>Yang</td><td>SO43793</td><td>Mountain-100 Silver, 38</td><td>1912.1544</td><td>3399.99</td><td>1</td></tr><tr><td>20110115</td><td>11001</td><td>Eugene</td><td>Huang</td><td>SO43767</td><td>Mountain-100 Black, 44</td><td>1898.0944</td><td>3374.99</td><td>1</td></tr><tr><td>20110107</td><td>11002</td><td>Ruben</td><td>Torres</td><td>SO43736</td><td>Mountain-100 Silver, 44</td><td>1912.1544</td><td>3399.99</td><td>1</td></tr><tr><td>20101229</td><td>11003</td><td>Christy</td><td>Zhu</td><td>SO43701</td><td>Mountain-100 Silver, 44</td><td>1912.1544</td><td>3399.99</td><td>1</td></tr><tr><td>20110123</td><td>11004</td><td>Elizabeth</td><td>Johnson</td><td>SO43810</td><td>Mountain-100 Silver, 42</td><td>1912.1544</td><td>3399.99</td><td>1</td></tr><tr><td>20101230</td><td>11005</td><td>Julio</td><td>Ruiz</td><td>SO43704</td><td>Mountain-100 Black, 48</td><td>1898.0944</td><td>3374.99</td><td>1</td></tr><tr><td>20110124</td><td>11006</td><td>Janet</td><td>Alvarez</td><td>SO43819</td><td>Mountain-100 Silver, 44</td><td>1912.1544</td><td>3399.99</td><td>1</td></tr><tr><td>20110109</td><td>11007</td><td>Marco</td><td>Mehta</td><td>SO43743</td><td>Mountain-100 Silver, 48</td><td>1912.1544</td><td>3399.99</td><td>1</td></tr><tr><td>20110125</td><td>11008</td><td>Rob</td><td>Verhoff</td><td>SO43826</td><td>Mountain-100 Black, 38</td><td>1898.0944</td><td>3374.99</td><td>1</td></tr><tr><td>20110127</td><td>11009</td><td>Shannon</td><td>Carlson</td><td>SO43837</td><td>Mountain-100 Black, 44</td><td>1898.0944</td><td>3374.99</td><td>1</td></tr><tr><td>20110114</td><td>11010</td><td>Jacquelyn</td><td>Suarez</td><td>SO43765</td><td>Mountain-100 Silver, 44</td><td>1912.1544</td><td>3399.99</td><td>1</td></tr><tr><td>20101230</td><td>11011</td><td>Curtis</td><td>Lu</td><td>SO43705</td><td>Mountain-100 Silver, 38</td><td>1912.1544</td><td>3399.99</td><td>1</td></tr><tr><td>20130316</td><td>11012</td><td>Lauren</td><td>Walker</td><td>SO54508</td><td>HL Mountain Tire</td><td>13.09</td><td>35.00</td><td>1</td></tr><tr><td>20130413</td><td>11013</td><td>Ian</td><td>Jenkins</td><td>SO56137</td><td>Road Tire Tube</td><td>1.4923</td><td>3.99</td><td>1</td></tr><tr><td>20130323</td><td>11014</td><td>Sydney</td><td>Bennett</td><td>SO54898</td><td>Road Tire Tube</td><td>1.4923</td><td>3.99</td><td>1</td></tr><tr><td>20130118</td><td>11015</td><td>Chloe</td><td>Young</td><td>SO51520</td><td>Mountain-200 Silver, 38</td><td>1265.6195</td><td>2319.99</td><td>1</td></tr><tr><td>20130209</td><td>11016</td><td>Wyatt</td><td>Hill</td><td>SO52512</td><td>Mountain-200 Black, 46</td><td>1251.9813</td><td>2294.99</td><td>1</td></tr><tr><td>20110112</td><td>11017</td><td>Shannon</td><td>Wang</td><td>SO43757</td><td>Mountain-100 Black, 44</td><td>1898.0944</td><td>3374.99</td><td>1</td></tr><tr><td>20110117</td><td>11018</td><td>Clarence</td><td>Rai</td><td>SO43778</td><td>Mountain-100 Silver, 42</td><td>1912.1544</td><td>3399.99</td><td>1</td></tr><tr><td>20130212</td><td>11019</td><td>Luke</td><td>Lal</td><td>SO52626</td><td>Road Tire Tube</td><td>1.4923</td><td>3.99</td><td>1</td></tr></table>"
                    },
                    "metadata": {}
                }
            ],
            "execution_count": 12
        },
        {
            "cell_type": "markdown",
            "source": [
                "## **In the following Query I am going to create a column to organize sales in English-speaking countries according to the different age groups, to obtain more precise data on the market to which this type of product should be directed.**\n",
                "\n",
                "### To do this I made a CTE to facilitate the process that I called \"MAIN\", then I used the CASE command to indicate the different age groups and categorize them. To finish I grouped them in the countries that speak English and the following are the results."
            ],
            "metadata": {
                "azdata_cell_guid": "324309b1-ee64-44ba-918d-ad4f54796cb1"
            },
            "attachments": {}
        },
        {
            "cell_type": "code",
            "source": [
                "WITH MAIN AS\r\n",
                "(\r\n",
                "SELECT T3.EnglishCountryRegionName,\r\n",
                "\tDATEDIFF(MONTH, BirthDate, OrderDate)/12 AS AGE,\r\n",
                "\tSalesOrderNumber\r\n",
                "  FROM [AdventureWorksDW2019].[dbo].[FactInternetSales] T1\r\n",
                "  JOIN AdventureWorksDW2019.dbo.DimCustomer T2\r\n",
                "  ON T1.CustomerKey =T2.CustomerKey\r\n",
                "  JOIN AdventureWorksDW2019.dbo.DimGeography T3\r\n",
                "  ON T2.GeographyKey = T3.GeographyKey\r\n",
                "  )\r\n",
                "\r\n",
                "  SELECT EnglishCountryRegionName,\r\n",
                "         CASE WHEN AGE < 30 THEN 'a: Under 30'\r\n",
                "\t\t WHEN AGE BETWEEN 30 AND 40 THEN 'b: 30 - 40'\r\n",
                "\t\t WHEN AGE BETWEEN 40 AND 50 THEN 'c: 40 - 50'\r\n",
                "\t\t WHEN AGE BETWEEN 50 AND 60 THEN 'd: 50 - 60'\r\n",
                "\t\t WHEN AGE < 60 THEN 'e: Over 60'\r\n",
                "\t\t ELSE 'Other'\r\n",
                "\t\t END AS Age_Group,\r\n",
                "\t\t count(salesordernumber) as sales\r\n",
                "\tFROM MAIN\r\n",
                "\tgroup by EnglishCountryRegionName,\r\n",
                "         CASE WHEN AGE < 30 THEN 'a: Under 30'\r\n",
                "\t\t WHEN AGE BETWEEN 30 AND 40 THEN 'b: 30 - 40'\r\n",
                "\t\t WHEN AGE BETWEEN 40 AND 50 THEN 'c: 40 - 50'\r\n",
                "\t\t WHEN AGE BETWEEN 50 AND 60 THEN 'd: 50 - 60'\r\n",
                "\t\t WHEN AGE < 60 THEN 'e: Over 60'\r\n",
                "\t\t ELSE 'Other'\r\n",
                "\t\t END"
            ],
            "metadata": {
                "azdata_cell_guid": "b57b705d-6fa0-4495-826e-65bbd1174e0c",
                "language": "sql"
            },
            "outputs": [
                {
                    "output_type": "display_data",
                    "data": {
                        "text/html": "(30 rows affected)"
                    },
                    "metadata": {}
                },
                {
                    "output_type": "display_data",
                    "data": {
                        "text/html": "Total execution time: 00:00:00.284"
                    },
                    "metadata": {}
                },
                {
                    "output_type": "execute_result",
                    "execution_count": 13,
                    "data": {
                        "application/vnd.dataresource+json": {
                            "schema": {
                                "fields": [
                                    {
                                        "name": "EnglishCountryRegionName"
                                    },
                                    {
                                        "name": "Age_Group"
                                    },
                                    {
                                        "name": "sales"
                                    }
                                ]
                            },
                            "data": [
                                {
                                    "EnglishCountryRegionName": "Canada",
                                    "Age_Group": "Other",
                                    "sales": "828"
                                },
                                {
                                    "EnglishCountryRegionName": "Australia",
                                    "Age_Group": "Other",
                                    "sales": "935"
                                },
                                {
                                    "EnglishCountryRegionName": "United Kingdom",
                                    "Age_Group": "c: 40 - 50",
                                    "sales": "1864"
                                },
                                {
                                    "EnglishCountryRegionName": "Germany",
                                    "Age_Group": "Other",
                                    "sales": "487"
                                },
                                {
                                    "EnglishCountryRegionName": "Canada",
                                    "Age_Group": "c: 40 - 50",
                                    "sales": "2079"
                                },
                                {
                                    "EnglishCountryRegionName": "Australia",
                                    "Age_Group": "b: 30 - 40",
                                    "sales": "5680"
                                },
                                {
                                    "EnglishCountryRegionName": "United States",
                                    "Age_Group": "c: 40 - 50",
                                    "sales": "5909"
                                },
                                {
                                    "EnglishCountryRegionName": "United Kingdom",
                                    "Age_Group": "a: Under 30",
                                    "sales": "494"
                                },
                                {
                                    "EnglishCountryRegionName": "Australia",
                                    "Age_Group": "d: 50 - 60",
                                    "sales": "1846"
                                },
                                {
                                    "EnglishCountryRegionName": "United States",
                                    "Age_Group": "d: 50 - 60",
                                    "sales": "3978"
                                },
                                {
                                    "EnglishCountryRegionName": "France",
                                    "Age_Group": "b: 30 - 40",
                                    "sales": "2369"
                                },
                                {
                                    "EnglishCountryRegionName": "Germany",
                                    "Age_Group": "a: Under 30",
                                    "sales": "447"
                                },
                                {
                                    "EnglishCountryRegionName": "United States",
                                    "Age_Group": "Other",
                                    "sales": "2466"
                                },
                                {
                                    "EnglishCountryRegionName": "Canada",
                                    "Age_Group": "d: 50 - 60",
                                    "sales": "1219"
                                },
                                {
                                    "EnglishCountryRegionName": "Australia",
                                    "Age_Group": "c: 40 - 50",
                                    "sales": "3519"
                                },
                                {
                                    "EnglishCountryRegionName": "France",
                                    "Age_Group": "a: Under 30",
                                    "sales": "375"
                                },
                                {
                                    "EnglishCountryRegionName": "Germany",
                                    "Age_Group": "c: 40 - 50",
                                    "sales": "1483"
                                },
                                {
                                    "EnglishCountryRegionName": "Canada",
                                    "Age_Group": "a: Under 30",
                                    "sales": "563"
                                },
                                {
                                    "EnglishCountryRegionName": "United Kingdom",
                                    "Age_Group": "Other",
                                    "sales": "649"
                                },
                                {
                                    "EnglishCountryRegionName": "United Kingdom",
                                    "Age_Group": "d: 50 - 60",
                                    "sales": "1170"
                                },
                                {
                                    "EnglishCountryRegionName": "Germany",
                                    "Age_Group": "d: 50 - 60",
                                    "sales": "891"
                                },
                                {
                                    "EnglishCountryRegionName": "Canada",
                                    "Age_Group": "b: 30 - 40",
                                    "sales": "2931"
                                },
                                {
                                    "EnglishCountryRegionName": "United States",
                                    "Age_Group": "b: 30 - 40",
                                    "sales": "7584"
                                },
                                {
                                    "EnglishCountryRegionName": "Australia",
                                    "Age_Group": "a: Under 30",
                                    "sales": "1365"
                                },
                                {
                                    "EnglishCountryRegionName": "United Kingdom",
                                    "Age_Group": "b: 30 - 40",
                                    "sales": "2729"
                                },
                                {
                                    "EnglishCountryRegionName": "France",
                                    "Age_Group": "c: 40 - 50",
                                    "sales": "1428"
                                },
                                {
                                    "EnglishCountryRegionName": "United States",
                                    "Age_Group": "a: Under 30",
                                    "sales": "1407"
                                },
                                {
                                    "EnglishCountryRegionName": "France",
                                    "Age_Group": "Other",
                                    "sales": "491"
                                },
                                {
                                    "EnglishCountryRegionName": "France",
                                    "Age_Group": "d: 50 - 60",
                                    "sales": "895"
                                },
                                {
                                    "EnglishCountryRegionName": "Germany",
                                    "Age_Group": "b: 30 - 40",
                                    "sales": "2317"
                                }
                            ]
                        },
                        "text/html": "<table><tr><th>EnglishCountryRegionName</th><th>Age_Group</th><th>sales</th></tr><tr><td>Canada</td><td>Other</td><td>828</td></tr><tr><td>Australia</td><td>Other</td><td>935</td></tr><tr><td>United Kingdom</td><td>c: 40 - 50</td><td>1864</td></tr><tr><td>Germany</td><td>Other</td><td>487</td></tr><tr><td>Canada</td><td>c: 40 - 50</td><td>2079</td></tr><tr><td>Australia</td><td>b: 30 - 40</td><td>5680</td></tr><tr><td>United States</td><td>c: 40 - 50</td><td>5909</td></tr><tr><td>United Kingdom</td><td>a: Under 30</td><td>494</td></tr><tr><td>Australia</td><td>d: 50 - 60</td><td>1846</td></tr><tr><td>United States</td><td>d: 50 - 60</td><td>3978</td></tr><tr><td>France</td><td>b: 30 - 40</td><td>2369</td></tr><tr><td>Germany</td><td>a: Under 30</td><td>447</td></tr><tr><td>United States</td><td>Other</td><td>2466</td></tr><tr><td>Canada</td><td>d: 50 - 60</td><td>1219</td></tr><tr><td>Australia</td><td>c: 40 - 50</td><td>3519</td></tr><tr><td>France</td><td>a: Under 30</td><td>375</td></tr><tr><td>Germany</td><td>c: 40 - 50</td><td>1483</td></tr><tr><td>Canada</td><td>a: Under 30</td><td>563</td></tr><tr><td>United Kingdom</td><td>Other</td><td>649</td></tr><tr><td>United Kingdom</td><td>d: 50 - 60</td><td>1170</td></tr><tr><td>Germany</td><td>d: 50 - 60</td><td>891</td></tr><tr><td>Canada</td><td>b: 30 - 40</td><td>2931</td></tr><tr><td>United States</td><td>b: 30 - 40</td><td>7584</td></tr><tr><td>Australia</td><td>a: Under 30</td><td>1365</td></tr><tr><td>United Kingdom</td><td>b: 30 - 40</td><td>2729</td></tr><tr><td>France</td><td>c: 40 - 50</td><td>1428</td></tr><tr><td>United States</td><td>a: Under 30</td><td>1407</td></tr><tr><td>France</td><td>Other</td><td>491</td></tr><tr><td>France</td><td>d: 50 - 60</td><td>895</td></tr><tr><td>Germany</td><td>b: 30 - 40</td><td>2317</td></tr></table>"
                    },
                    "metadata": {}
                }
            ],
            "execution_count": 13
        }
    ]
}